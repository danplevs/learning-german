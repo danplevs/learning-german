{
 "cells": [
  {
   "cell_type": "markdown",
   "metadata": {
    "id": "xDJCNAAyLYgo"
   },
   "source": [
    "# To do \n",
    "- [x] Web scrape basic German phrases;\n",
    "- [x] Process the phrases, morphologically classifying the words;\n",
    "- [x] Translate the words \n",
    "- [x] Text to speech feature\\\n",
    "- [ ] Write new functions to web scrap, data wrangling and translation\n",
    "- [ ] Memorize the words learned, so they don't show up in the table"
   ]
  },
  {
   "cell_type": "markdown",
   "metadata": {
    "id": "_sYx8t3xtuCI"
   },
   "source": [
    "# Environment"
   ]
  },
  {
   "cell_type": "code",
   "execution_count": 1,
   "metadata": {
    "id": "fiToZVhyEkka"
   },
   "outputs": [],
   "source": [
    "# web scraping \n",
    "import requests\n",
    "from bs4 import BeautifulSoup\n",
    "# nlp\n",
    "import spacy\n",
    "import de_core_news_sm\n",
    "# data wrangling\n",
    "import pandas as pd\n",
    "# translation\n",
    "from google.cloud import translate_v2 as translate\n",
    "# create google application credentials\n",
    "import os\n",
    "# text to speech\n",
    "from gtts import gTTS\n",
    "from IPython.display import Audio"
   ]
  },
  {
   "cell_type": "markdown",
   "metadata": {
    "id": "9H56XsSzt39w"
   },
   "source": [
    "# Functions"
   ]
  },
  {
   "cell_type": "markdown",
   "metadata": {
    "id": "xIwkNJy04HdM"
   },
   "source": [
    "## Text to speech"
   ]
  },
  {
   "cell_type": "code",
   "execution_count": 21,
   "metadata": {
    "id": "S3TaLXRfuv92"
   },
   "outputs": [],
   "source": [
    "def de_say(txt, language='de', slowmode=False):\n",
    "    speech = gTTS(txt, lang=language, slow=slowmode)\n",
    "    speech.save('speech.mp3')\n",
    "    return Audio('speech.mp3', autoplay=False)"
   ]
  },
  {
   "cell_type": "code",
   "execution_count": 22,
   "metadata": {},
   "outputs": [
    {
     "data": {
      "text/html": [
       "\n",
       "                <audio controls=\"controls\" >\n",
       "                    <source src=\"data:audio/mpeg;base64,//NExAAQaHoAAUgYACwbgDgAwA4jkChnu73/+7u9oBgbwxDCwfD4jB/UD78Rn+8oCBwoc/l38EOUBCD7wfB/5eD4fkOIHAh9Ti4IOE58ujSW1CoAJfaAqYfTx1CPPxky//NExBEWsxaEAZKYADCIf6i4xOf+aJiyCp//HNC0MTmI3CyQN8//wPBg6EMZhYeHrlcd///4jgTgFoghKGMwubJInCKf///k4aV+23/////poIMZm65e3KfgD5VfRwZ+//NExAkUyc7YAZhIABx2GF4MPrZ8v/bS+V9//v//P//kL/qH9/XEmIkkKZMjJSjaq5aNpoxaWy8g+eVnHaJhph1wWSc2yo2/7aky7lPn7WsCFp7////1Vf1upNjJa/3S//NExAgUoaK8AdlAAH3YE4YLMitm1hbw1//N3/xxub//+5jvWZnbq4WKEQVhoiA6EYeMZgybIgCODywMDlheYu+e2tka1UxmvFQKEiQMnQ2NOuf////gdf/8ZUDkDRqk//NExAgUkb60AMHYlKXgboafyzP0QA3WFXetE9fm+pHMznzPymPpp6MO1M3ecO23MZPyw8bwGJfu0xL/M/SlW2NjpsesVfYUQ0icf8Ew4FkBsbR////FVdd7Ms/PuFJV//NExAgSGbKsAMCMlameoqlOqmL02SgQEzwMY2iP/830//t+3Ikcmjw45ImLEIG5fQYBGKP7BPHzO4Z62Kf8tpbelqNQ+P7cDLWgWYEK+sr43TxVMVXB/AxjbpfXsXNf//NExBITChKsAHhQmP///0cdVEjbQ6pNFZUkdcUE3uNgzuO+9I56Ol0mPmNX5nuKQm9bF0gzIUQJTCwbbrXLhdLKlNr/xPRV9SjPMgo1y/+v//51gpVU/ohr6odcWEJg//NExBgRqiasABBKmOkcQGmuVxkzLR7pZ9LHailQYouERZjCZGcwwyoYyDyQdXGMPlQbVDtTtv8zUHSqFDJObFkRCyBQJAeFEgCleNe6jT5Uv9yv/+XSamsZcMYCa4MS//NExCQSqS6gAEmGcBhWi7Rm6TBjJNColATzxWEiu4O7oiHAI8iJhZdxH5G2hm2yn+tMjT+LchYtpCXSkRylukTRUyujQVa9y9e11rddMqw41Vsof/57GAmHFVA7EqRK//NExCwSENJ0AU8YAOJBU6GgZcolyTJ1T+BnjHlREPqHulf87hrzv/rVaxHozsyGjAjabqlzP9c/XZbew6sZalZWlkQZBuutaCalpj3JceLI1qSZnUEXBtgD2BJlNJVl//NExDYd2ypUAZloAC2tzU4aBywTsStG9Pak+5YpAtJBiQ1Kqf/54vlianHeMGSn/Xut/3zE3L5ugbqlw0NDf1/1/t+v6mSZ2TuggXFm6qUKxrhasqCkBoRa9Go1KDln//NExBEW0caoAZhAANW29htpOweXNV4+ReyeK7um6SqJFiqgaQII0ZYgKGEl1KQRTDkFgjCMI2wMD++re6TdllhrjsXdP/0R/+OBzGUpYjf/8oc////jav/U0lNIPlMg//NExAgSQSa8AdlgATRjJjXCi0ShOX/yMWu4RyK6y1u3zr/ZNHbfKyuVhDshHOv3jti9p3J9jMtEw1A5BYyf/R0a/bIWrH6/9cwu21KR//rqByCpSChFFITOYM86c5wi//NExBIRycLAAMFQlCuFB1qio/XxB9RJEIBwwbQwFgBhaxglVXYVNHOKHDBiAyqwXX9f1f8fsv55rK4+uSJrQdcTVe/2lNUJPQxQQyQvhqersruXIOnzSmCzY2L+q9q+//NExB0SqaKsAMIQlQc1wgfmiochkgWs8RWggPHxggBZHFxDCJl4v////+Pt21ktYIFA8BQDWYYnSLrqA1xN0UQ0YHbVMRXGxO/GXyrdfbQJ3aFzmjojNkCy0kbqCefj//NExCURQd6sAJnWmEQaP+5/9f///uv232iTJTs+CYc4RZ7D9+bH4K7v///pbOAecVsGgAuTViM2xeN+SvqvTqbnCoXyELeVDNtxN1DQb7DBNOhpJZVaur/+ZdZo9Q7T//NExDMRWd6sAJKamGokgPGpRue0zJ50kE5ivZ///RXMzgBWWjdMMeDtLTMxyFNOn+bdf//z/hFe553IuZohPxQWt3EiyWLgw9Qlf////8V8LSUIYsgoKBb3KrlzeCBU//NExEAR6da0AVBAAB8CEv////9aaqZzTMAZG9QGmArIVCEVK/BQJ8A4GQq74pJwvmI6mb31batIuKXtHt4mlWhpknQrjdORacVk/WWDmdDlebRAZyaqZJKZDDYeQIDN//NExEshOe6YAZl4AB3sRvr/8RaZ//1m1Nb+m5XpQ3jLTChOh02olWE1ewMH+krwGKBGw1O6zzS+XCx/lkBzR8qY/W5vxRVnVipDGmF1ZKEzGmIKE9e4GolQJIIit+de//NExBkWaR7EAY94AGcij8gT0ve1aPHFra1vL+HJqEgK+IppiKbptYxXPvu+qXpnbfBBMIhtBg9Whl6wvoDjqAuG2ChgP+z///9TvrEa/n7Scqdu0xFKFWsC+4QFnMgb//NExBIRoSa8Adh4ALFpGsYS51mzXc7rXeldM98SHs81dJnQ4x08Nxiebu61rwfnP3/8fGoLJNE1Ifro/O01vs667FMKSswEoGWq6JFJQcB8YQI2aajYS6i2KxUWTx/s//NExB4R+SrEAGvecPH7Un1W4VTrM6YT9H4P9DGqdlc8WvrWa63SupMZ3HraBTUfBMexH9H/195xKiAPEGnYh1TfroTZZs3GCEdGvJVsGEYKNWs1XEFqFEDp9FUqjqfk//NExCkRWTLEAHvYcaMlp65ssu02bWmm2yZtOPbOPWgcvCAHmvunjaEKfMwaQWSTi2YNpPOyklaLWppTBg1WUXElAm0bi1LTS3n5uxWo6XsvU6e7+Zy+z+Rfu6ruetxu//NExDYSgYK4AI4QlMPmCBGBb2WdraItJyu4oKOb3//r1vtUqUEx4bvsYfXn8ZmHSo+Y2ku+2dQGZZKSm5DSNJ5v5llUu5ybL7wLzf1Z7nKZ33px1yW374/QPzyUBw8y//NExD8SkYqwAMYWlFBdvXC7t5tU7DRy6kdwaQC5JqcRgSSdYX7x5llLHmz1HwuNS2kwyhiLZ63G35z/2Z4U30Lv03d6fPbz+92Rz+5/2K1z6mXvZ3brILSCCMuexzG///NExEcSSXq8AJYMlP60Vc/3HBiBk3fuLq53CkVAz12xjqjZXYDOdDXrpB3b9rZa7mUCqgvEIK1a3KxnV32a8G//D67Q+ZHI6/ZGj1l1RDLCZzona66s+39KsbuPiC1u//NExFASaXq4AMvMlByOUNwYju4YH4teuVABkHYBBOjmnvfaexv1kexAOEilmxstP/ytrqJVsbn/2q7/JSR0NkRE8UvsriYkKiiUx9WK0tyHDnHmpxOEkgT90tMzfCXA//NExFkRSUK0AMMMcEoXlLjKTU/+5Ua1sUq6alVIsgpFV2UqYRdKbdYuoK/v///6T5yU31uho5FFBKTkO4fSlMqj46odfLpX7iQTzVeA9gvNHwVS+ioTw2Xvrf85+US2//NExGYROeqgANNGmHnaxYuW1pZ7RzsRVZAE+90tGBr+XGCcwJCIQOB8SpLjDY8S/0WtfigJFzgx5X8mpjBAGl3NNRW9eUIICaRNyIdbQ7PqfQT7amSdVAuQOs4fCQtI//NExHQRaR6YAMtMcC4rSHnab//IQ8ggrudHOolftAfCMmvU/v+j/qrvI4Mx0yKGpPkSKrkz8MJSLFQDhsxCBWfI2yB/2fQ3u1ClyFYhWqFD2o7oRf2e26M8gQAxxAQE//NExIESSZqUANtKlVhpwxGWEAEkVCV1aTFNNY3criOuHBZzJbJEOm5sKkZBvo7xytDbNWUYpb9PmaTrdtbb///72r55dGnLr4qs28rERyJ59VCKTyWUSRQss847DTAu//NExIoRWYqYANKKlKapfoHx6nm47YIkjQuMPQYI063FoDSTPsrL6Kgm4mTnB6FKtVqD6klr1MlW3////+0eLABu6tojGiHsesh0xyBUTR5F4TLQZDCdKBcmQOO9Y8Hn//NExJcSWZ6YANNMlCqf////VYMlKUhsNAsmf0dAGLVw5MEChP+ejiYCubXYEpeATBz91/GIDL85t7zb/3q8PH/94eKaztTn5spA+E8CZhQrrZ6i84Tl5wk2Obo8ULH8//NExKAUqZaYANNMlLpXIYjl9Fhup+HzxisEUxzOTk72zWk+133ipk9OQKE4Uc5P//58uH2nCqVftLKTkgW4Om44K/RqBTDlGwO+0ZSdqGEAgYp0IbrlggKvYV5RZbJR//NExKAd8haMANPYmGUctmuXfctSYk5mW1IjgmOBsUhBK2IRaYYdOigqBaD8BgBgJCUJZAJhGG4vd0JDziww8sSFDiQ4uHTbPQxzmfZ6N3ujndTNXm2t//////3nbEjF//NExHsfiwKQANMOuXIRq6qdiT+ncM7L/GYwHBQSwAHWy13AI80p+EOE7MYY8p2843HSHxr4vm8eLlWXvJK1zwbqBgimghhqNzWYENjXb5zZ3JhgzOUCIr1IATUbg+CU//NExE8dyv6YAMvOuWpIaFHFB89y5NDz2Gw9LsWUw9Fcw2jf/r/6f//////X+spOQieg+ZPVl2ZIAEI0jYxcrnDBFbWPCogtbFBOgKM2h+R8Mu8ovWapby4+GjXTkbb1//NExCobGaKkAMvelFUY70Ne5CvOFrIWyzJFVWU8SzxNeCptyMjM/a0dBbFbXUeud72/18V14VoVI1qxoy4e6eZCYeEL2/jHJo///+nWwkq/dW0LDpp0XRZ2jDagEExV//NExBAUeZKwAMLWlA3AqGLygheTPgmXBIX1a1L4fySrgdvBYJlQzJ2cHc5hbybrUqtBQu9MdzrL2aF6tcxw33ffoOtp0EHqsv//////18ORsjFTqyII6lCTP7JAXQSa//NExBESaTasAMTWcCI7JZy8ec6bSgaziehzb0ryKdggD2gIK1QMPYb8k+oOXN3qem6jQd1sRos9lueKlwaE3///////SpNolDHmtv8NnRdMhnkpUeAZ2QY6I0RkBRkM//NExBoRSSqkAMzScEllZpYSptTj5x6bXUalhM0kAoMlxUaTU22vUY9vPH2U8SAcVQe4rkEAi/TVx0Sskx3CUUTCukBA8TOp+gcK+9ADOVk7MB9orLak7zXNcN5i4PXD//NExCcRwZKcAMrKlJ2HjOCuNDoqrZnTo7qzGIjUvLrfrtvE2BBLR6///KPp3mVPkzphIUbM/gxRLBoiZhMqCYULXEIljcXCwwashrIuumuiNoZOdXEK43zdToZhRUIV//NExDMRKZqYAMHElNX36t9ru7MwJ6Uf9e57rCpMoonD4wcac4CE4OXKo096nTEntgu8JCAMQRFkEjqzJL8y0mdFW9hWHgaYyKrMzqtncWqAw8RDujyun210dxosY1Ue//NExEESQZaYAMFKlP64sRaMK9uTh4RCFRi+GdNeEIm3flpMMPEyptpTelVvdbOlqd3z9Pt0/yhzuafodNa/MqWoYIC5eactEe9uljnOPGoUUe/74Oh1bjCSGSvdVSBk//NExEsSKY6EAVg4AHZKiIOdkgOjwE8LtMDd9csgjz2ReUUdqA1WwgySGk7a7ImDrY2thq1zbGslQ3NjWypqdpLwtdy1cq7thKikLScT674Yx9Kw+4Sbdtr/NP/f0+Hu//NExFUgmvpkAZpYAWqN3zDYnRq52MYfPuOHG3ah8bhFFAmBsO0pHaVVX////8MZ//z/5ciCwQsqzKoSiWlLOmR4OaxGUvzcrSrKNdpt8zpaWluV+a7szmeqOYt4XLqR//NExCUSQTJUAdgQAM4l2NLZlVvX4YUJY92vbWLkbKSpWnkaxE9Z1gdPDTp5E6mO6QTpfWd49fL6EtqufWCrAOOCkgEXHatzzLPPRlVVqkxmzNV181VgzjU1hlYBWlDk//NExC8SSPY4AHmGcB7pKnVPLb/KPEq9Q5oVdO9igL0REp0s2631VQS4HaXi3sqt0ut/qmBiWuFpUTD+Q6XtS1jVYd1Jj/U1Jr+bGX1GCuTUukGItU8JuKiIStAthNvh//NExDgSCUYAAMDGcCfOy0ryvyXz0ZoW7KgJxUsqTEFNRTMuMTAwqqqqqqqqqqqqqqqqqqqqqqqqqqqqqqqqqqqqqqqqqqqqqqqqqqqqqqqqqqqqqqqqqqqqTEFNRTMu//NExEIAAANIAAAAADEwMKqqqqqqqqqqqqqqqqqqqqqqqqqqqqqqqqqqqqqqqqqqqqqqqqqqqqqqqqqqqqqqqqqqqqqqqqqqqqqqqqqqqqqqqqqqqqqqqqqqTEFNRTMu//NExJUAAANIAAAAADEwMKqqqqqqqqqqqqqqqqqqqqqqqqqqqqqqqqqqqqqqqqqqqqqqqqqqqqqqqqqqqqqqqqqqqqqqqqqqqqqqqqqqqqqqqqqqqqqqqqqqqqqqqqqq//NExKwAAANIAAAAAKqqqqqqqqqqqqqqqqqqqqqqqqqqqqqqqqqqqqqqqqqqqqqqqqqqqqqqqqqqqqqqqqqqqqqqqqqqqqqqqqqqqqqqqqqqqqqqqqqqqqqqqqqqqqqq//NExKwAAANIAAAAAKqqqqqqqqqqqqqqqqqqqqqqqqqqqqqqqqqqqqqqqqqqqqqqqqqqqqqqqqqqqqqqqqqqqqqqqqqqqqqqqqqqqqqqqqqqqqqqqqqqqqqqqqqqqqqq\" type=\"audio/mpeg\" />\n",
       "                    Your browser does not support the audio element.\n",
       "                </audio>\n",
       "              "
      ],
      "text/plain": [
       "<IPython.lib.display.Audio object>"
      ]
     },
     "execution_count": 22,
     "metadata": {},
     "output_type": "execute_result"
    }
   ],
   "source": [
    "say('Ich bin Daniel')"
   ]
  },
  {
   "cell_type": "markdown",
   "metadata": {},
   "source": [
    "## Translation"
   ]
  },
  {
   "cell_type": "code",
   "execution_count": 24,
   "metadata": {},
   "outputs": [],
   "source": [
    "def init_translation_client():\n",
    "    os.environ['GOOGLE_APPLICATION_CREDENTIALS'] = 'credentials.json'\n",
    "    translate_client = translate.Client()"
   ]
  },
  {
   "cell_type": "code",
   "execution_count": 36,
   "metadata": {},
   "outputs": [],
   "source": [
    "def de_to_en(txt):\n",
    "    init_translation_client()\n",
    "    result = translate_client.translate(txt, target_language='en', source_language='de', model='nmt')['translatedText']\n",
    "    return result"
   ]
  },
  {
   "cell_type": "code",
   "execution_count": 41,
   "metadata": {},
   "outputs": [],
   "source": [
    "def en_to_de(txt):\n",
    "    init_translation_client()\n",
    "    result = translate_client.translate(txt, target_language='de', source_language='en', model='nmt')['translatedText']\n",
    "    return result"
   ]
  },
  {
   "cell_type": "markdown",
   "metadata": {
    "id": "Bdb91bKZL7AY"
   },
   "source": [
    "# Web Scraping"
   ]
  },
  {
   "cell_type": "code",
   "execution_count": 3,
   "metadata": {
    "colab": {
     "base_uri": "https://localhost:8080/"
    },
    "id": "O7SYuJWsNXNm",
    "outputId": "8440c307-321c-47b1-9eb1-0dacbb21cbb2"
   },
   "outputs": [
    {
     "name": "stdout",
     "output_type": "stream",
     "text": [
      "OK!\n"
     ]
    }
   ],
   "source": [
    "# creating a HTTP request to extract the HTML code that contains the phrases\n",
    "url = 'https://www.rosettastone.com/languages/german-phrases/'\n",
    "page = requests.get(url)\n",
    "# checking the status of the request\n",
    "if page.status_code == 200:\n",
    "  print('OK!')\n",
    "else:\n",
    "  print('404 ERROR!')"
   ]
  },
  {
   "cell_type": "code",
   "execution_count": 4,
   "metadata": {
    "colab": {
     "base_uri": "https://localhost:8080/"
    },
    "id": "QFopmamwOsBY",
    "outputId": "639dfa24-de0f-4b73-defe-97ebc29db398"
   },
   "outputs": [
    {
     "data": {
      "text/plain": [
       "<ul>\n",
       "<li>Guten Tag = Good morning</li>\n",
       "<li>Hallo = Hello</li>\n",
       "<li>Ich heiße … = My name is …</li>\n",
       "<li>Sprechen Sie Englisch? = Do you speak English?</li>\n",
       "<li>Wie heißt du? = What’s your name?</li>\n",
       "<li>Wie geht es dir? = How are you?</li>\n",
       "<li>Gut, danke = Fine, thank you</li>\n",
       "<li>Nett, Sie kennen zu lernen = Nice to meet you</li>\n",
       "<li>Tisch für zwei bitte = Table for two, please</li>\n",
       "<li>Wo ist die Toilette? = Where is the bathroom?</li>\n",
       "<li>Danke = Thank you</li>\n",
       "<li>Wie komme ich zu …? = How can I get to …?</li>\n",
       "<li>Gibt es ein Restaurant in der Nähe? = Is there a restaurant nearby?</li>\n",
       "<li>Ich liebe dich = I love you</li>\n",
       "<li>Wie viel kostet das …? = How much is this …?</li>\n",
       "<li>Es tut mir leid, ich verstehe das nicht = Sorry, I don’t understand</li>\n",
       "<li>Haben Sie noch Zimmer frei? = Do you have any rooms available?</li>\n",
       "<li>Auf Wiedersehen = Goodbye</li>\n",
       "</ul>"
      ]
     },
     "execution_count": 4,
     "metadata": {},
     "output_type": "execute_result"
    }
   ],
   "source": [
    "# extracting HTML list tag from the page\n",
    "page_content = BeautifulSoup(page.content, 'html.parser')\n",
    "phrase_html_list = page_content.ul\n",
    "phrase_html_list"
   ]
  },
  {
   "cell_type": "code",
   "execution_count": 5,
   "metadata": {
    "colab": {
     "base_uri": "https://localhost:8080/"
    },
    "id": "rheR-wXcIate",
    "outputId": "e228f827-d1b5-4bb5-efb6-61fe0a64c9e7"
   },
   "outputs": [
    {
     "data": {
      "text/plain": [
       "['Guten Tag',\n",
       " 'Hallo',\n",
       " 'Ich heiße …',\n",
       " 'Sprechen Sie Englisch?',\n",
       " 'Wie heißt du?',\n",
       " 'Wie geht es dir?',\n",
       " 'Gut, danke',\n",
       " 'Nett, Sie kennen zu lernen',\n",
       " 'Tisch für zwei bitte',\n",
       " 'Wo ist die Toilette?',\n",
       " 'Danke',\n",
       " 'Wie komme ich zu …?',\n",
       " 'Gibt es ein Restaurant in der Nähe?',\n",
       " 'Ich liebe dich',\n",
       " 'Wie viel kostet das …?',\n",
       " 'Es tut mir leid, ich verstehe das nicht',\n",
       " 'Haben Sie noch Zimmer frei?',\n",
       " 'Auf Wiedersehen']"
      ]
     },
     "execution_count": 5,
     "metadata": {},
     "output_type": "execute_result"
    }
   ],
   "source": [
    "# extracting only the deutsche parts of the strings\n",
    "deutsche_list = []\n",
    "for phrase in phrase_html_list.stripped_strings:\n",
    "  deutsche_list.append(phrase.split(' = ')[0])\n",
    "deutsche_list"
   ]
  },
  {
   "cell_type": "markdown",
   "metadata": {
    "id": "W42S0_QMMFQo"
   },
   "source": [
    "# NLP"
   ]
  },
  {
   "cell_type": "code",
   "execution_count": 6,
   "metadata": {
    "id": "9pN1U3IFMH6z"
   },
   "outputs": [],
   "source": [
    "# loading the deutsche model \n",
    "nlp = de_core_news_sm.load()\n",
    "# processing our sample\n",
    "doc_list = [nlp(phrase) for phrase in deutsche_list]"
   ]
  },
  {
   "cell_type": "markdown",
   "metadata": {
    "id": "FMJuULdsKk7p"
   },
   "source": [
    "**de_text**: The original deutsche word text.  \n",
    "**lemma**: The base form of the word.   \n",
    "**pos**: The simple UPOS part-of-speech tag (list of universal POS tags: https://universaldependencies.org/docs/u/pos/)  \n",
    "**details**: The detailed part-of-speech"
   ]
  },
  {
   "cell_type": "code",
   "execution_count": 7,
   "metadata": {
    "colab": {
     "base_uri": "https://localhost:8080/"
    },
    "id": "tcyvNcHnQFGD",
    "outputId": "ae515940-6d50-4aa4-d47a-f71e9af1b8bf"
   },
   "outputs": [
    {
     "data": {
      "text/html": [
       "<div>\n",
       "<style scoped>\n",
       "    .dataframe tbody tr th:only-of-type {\n",
       "        vertical-align: middle;\n",
       "    }\n",
       "\n",
       "    .dataframe tbody tr th {\n",
       "        vertical-align: top;\n",
       "    }\n",
       "\n",
       "    .dataframe thead th {\n",
       "        text-align: right;\n",
       "    }\n",
       "</style>\n",
       "<table border=\"1\" class=\"dataframe\">\n",
       "  <thead>\n",
       "    <tr style=\"text-align: right;\">\n",
       "      <th></th>\n",
       "      <th>deutsche</th>\n",
       "      <th>lemma</th>\n",
       "      <th>pos</th>\n",
       "      <th>details</th>\n",
       "    </tr>\n",
       "  </thead>\n",
       "  <tbody>\n",
       "    <tr>\n",
       "      <th>0</th>\n",
       "      <td>Guten</td>\n",
       "      <td>guten</td>\n",
       "      <td>ADJ</td>\n",
       "      <td>adjective, attributive</td>\n",
       "    </tr>\n",
       "    <tr>\n",
       "      <th>1</th>\n",
       "      <td>Tag</td>\n",
       "      <td>tag</td>\n",
       "      <td>NOUN</td>\n",
       "      <td>noun, singular or mass</td>\n",
       "    </tr>\n",
       "  </tbody>\n",
       "</table>\n",
       "</div>"
      ],
      "text/plain": [
       "  deutsche  lemma   pos                 details\n",
       "0    Guten  guten   ADJ  adjective, attributive\n",
       "1      Tag    tag  NOUN  noun, singular or mass"
      ]
     },
     "execution_count": 7,
     "metadata": {},
     "output_type": "execute_result"
    }
   ],
   "source": [
    "# declaring the dataframe columns and containers for the values\n",
    "column_names = ['deutsche', 'lemma', 'pos', 'details']\n",
    "deutsche_text, lemma, pos, details = ([] for i in range(4))\n",
    "\n",
    "\n",
    "# collecting 13th phrase data\n",
    "for word in doc_list[0]:\n",
    "  deutsche_text.append(word.text)\n",
    "  lemma.append(word.lemma_.lower()) \n",
    "  pos.append(word.pos_) \n",
    "  details.append(spacy.explain(word.tag_))\n",
    "\n",
    "\n",
    "# creating the words dataframe\n",
    "words = pd.DataFrame(data=zip(deutsche_text, lemma, pos, details), columns=column_names)\n",
    "words"
   ]
  },
  {
   "cell_type": "code",
   "execution_count": 8,
   "metadata": {
    "colab": {
     "base_uri": "https://localhost:8080/",
     "height": 111
    },
    "id": "Bs9WGKKbv1in",
    "outputId": "0bb91bbc-daad-4c2e-98b5-f96efec1dbfe"
   },
   "outputs": [
    {
     "data": {
      "text/html": [
       "<div>\n",
       "<style scoped>\n",
       "    .dataframe tbody tr th:only-of-type {\n",
       "        vertical-align: middle;\n",
       "    }\n",
       "\n",
       "    .dataframe tbody tr th {\n",
       "        vertical-align: top;\n",
       "    }\n",
       "\n",
       "    .dataframe thead th {\n",
       "        text-align: right;\n",
       "    }\n",
       "</style>\n",
       "<table border=\"1\" class=\"dataframe\">\n",
       "  <thead>\n",
       "    <tr style=\"text-align: right;\">\n",
       "      <th></th>\n",
       "      <th>deutsche</th>\n",
       "      <th>lemma</th>\n",
       "      <th>pos</th>\n",
       "      <th>details</th>\n",
       "    </tr>\n",
       "  </thead>\n",
       "  <tbody>\n",
       "    <tr>\n",
       "      <th>0</th>\n",
       "      <td>Guten</td>\n",
       "      <td>guten</td>\n",
       "      <td>ADJ</td>\n",
       "      <td>adjective, attributive</td>\n",
       "    </tr>\n",
       "    <tr>\n",
       "      <th>1</th>\n",
       "      <td>Tag</td>\n",
       "      <td>tag</td>\n",
       "      <td>NOUN</td>\n",
       "      <td>noun, singular or mass</td>\n",
       "    </tr>\n",
       "  </tbody>\n",
       "</table>\n",
       "</div>"
      ],
      "text/plain": [
       "  deutsche  lemma   pos                 details\n",
       "0    Guten  guten   ADJ  adjective, attributive\n",
       "1      Tag    tag  NOUN  noun, singular or mass"
      ]
     },
     "execution_count": 8,
     "metadata": {},
     "output_type": "execute_result"
    }
   ],
   "source": [
    "# checking for punctuation and removing it if true\n",
    "if words['pos'].str.contains('PUNCT').any():\n",
    "  words.drop(words[words.pos == 'PUNCT'].index, inplace=True)\n",
    "words"
   ]
  },
  {
   "cell_type": "markdown",
   "metadata": {
    "id": "AoQP1XJ1KdMk"
   },
   "source": [
    "# Translation"
   ]
  },
  {
   "cell_type": "code",
   "execution_count": 9,
   "metadata": {},
   "outputs": [
    {
     "data": {
      "text/html": [
       "<div>\n",
       "<style scoped>\n",
       "    .dataframe tbody tr th:only-of-type {\n",
       "        vertical-align: middle;\n",
       "    }\n",
       "\n",
       "    .dataframe tbody tr th {\n",
       "        vertical-align: top;\n",
       "    }\n",
       "\n",
       "    .dataframe thead th {\n",
       "        text-align: right;\n",
       "    }\n",
       "</style>\n",
       "<table border=\"1\" class=\"dataframe\">\n",
       "  <thead>\n",
       "    <tr style=\"text-align: right;\">\n",
       "      <th></th>\n",
       "      <th>deutsche</th>\n",
       "      <th>lemma</th>\n",
       "      <th>pos</th>\n",
       "      <th>details</th>\n",
       "      <th>english</th>\n",
       "    </tr>\n",
       "  </thead>\n",
       "  <tbody>\n",
       "    <tr>\n",
       "      <th>0</th>\n",
       "      <td>Guten</td>\n",
       "      <td>guten</td>\n",
       "      <td>ADJ</td>\n",
       "      <td>adjective, attributive</td>\n",
       "      <td>Good ones</td>\n",
       "    </tr>\n",
       "    <tr>\n",
       "      <th>1</th>\n",
       "      <td>Tag</td>\n",
       "      <td>tag</td>\n",
       "      <td>NOUN</td>\n",
       "      <td>noun, singular or mass</td>\n",
       "      <td>Day</td>\n",
       "    </tr>\n",
       "  </tbody>\n",
       "</table>\n",
       "</div>"
      ],
      "text/plain": [
       "  deutsche  lemma   pos                 details    english\n",
       "0    Guten  guten   ADJ  adjective, attributive  Good ones\n",
       "1      Tag    tag  NOUN  noun, singular or mass        Day"
      ]
     },
     "execution_count": 9,
     "metadata": {},
     "output_type": "execute_result"
    }
   ],
   "source": [
    "os.environ['GOOGLE_APPLICATION_CREDENTIALS'] = 'credentials.json'\n",
    "\n",
    "translate_client = translate.Client()\n",
    "\n",
    "translated_words = [translate_client.translate(word, target_language='en', source_language='de', model='nmt')['translatedText'] for word in words['deutsche']]\n",
    "words['english'] = translated_words\n",
    "words"
   ]
  }
 ],
 "metadata": {
  "colab": {
   "collapsed_sections": [
    "_sYx8t3xtuCI",
    "9H56XsSzt39w",
    "Bdb91bKZL7AY",
    "W42S0_QMMFQo",
    "AoQP1XJ1KdMk"
   ],
   "name": "LearningGerman.ipynb",
   "provenance": [],
   "toc_visible": true
  },
  "kernelspec": {
   "display_name": "Python 3",
   "language": "python",
   "name": "python3"
  },
  "language_info": {
   "codemirror_mode": {
    "name": "ipython",
    "version": 3
   },
   "file_extension": ".py",
   "mimetype": "text/x-python",
   "name": "python",
   "nbconvert_exporter": "python",
   "pygments_lexer": "ipython3",
   "version": "3.7.9"
  },
  "toc-autonumbering": false,
  "toc-showcode": false,
  "toc-showmarkdowntxt": false,
  "toc-showtags": false
 },
 "nbformat": 4,
 "nbformat_minor": 4
}
