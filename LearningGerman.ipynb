{
 "cells": [
  {
   "cell_type": "markdown",
   "metadata": {
    "id": "_sYx8t3xtuCI"
   },
   "source": [
    "# Environment"
   ]
  },
  {
   "cell_type": "code",
   "execution_count": 1,
   "metadata": {
    "id": "fiToZVhyEkka"
   },
   "outputs": [],
   "source": [
    "# nlp library\n",
    "import spacy\n",
    "# de, en nlp models\n",
    "import de_core_news_sm, en_core_web_sm\n",
    "# data wrangling\n",
    "import pandas as pd\n",
    "# translation\n",
    "from google.cloud import translate_v2\n",
    "# create google application credentials env variable\n",
    "import os\n",
    "# text to speech\n",
    "from gtts import gTTS\n",
    "from IPython.display import Audio\n",
    "# dynamic class\n",
    "import jdc"
   ]
  },
  {
   "cell_type": "markdown",
   "metadata": {},
   "source": [
    "# Class"
   ]
  },
  {
   "cell_type": "code",
   "execution_count": 2,
   "metadata": {},
   "outputs": [],
   "source": [
    "class LearningGerman:\n",
    "    def __init__(self, text='testen'):\n",
    "        self.text = text\n",
    "        self.words, self.lemma, self.pos, self.details = ([] for c in range(4))\n",
    "        self.table_ = pd.DataFrame()\n",
    "        os.environ['GOOGLE_APPLICATION_CREDENTIALS'] = '.projdata/credentials.json'\n",
    "        self.client = translate_v2.Client()\n",
    "        self.language = self.client.detect_language(self.text)['language']\n",
    "        if self.language == 'de':\n",
    "            self.to = 'en'\n",
    "        elif self.language == 'en':\n",
    "            self.to = 'de'\n",
    "        self.model = 'nmt'"
   ]
  },
  {
   "cell_type": "code",
   "execution_count": 3,
   "metadata": {
    "jupyter": {
     "source_hidden": true
    }
   },
   "outputs": [],
   "source": [
    "%%add_to LearningGerman\n",
    "\n",
    "@property\n",
    "def table(self):\n",
    "    if self.table_.empty:\n",
    "        print('To create a complete vocab chart, please call nlp()!')\n",
    "    else:\n",
    "        return self.table_"
   ]
  },
  {
   "cell_type": "code",
   "execution_count": 4,
   "metadata": {
    "jupyter": {
     "source_hidden": true
    }
   },
   "outputs": [],
   "source": [
    "%%add_to LearningGerman\n",
    "\n",
    "@staticmethod\n",
    "def drop_punct(table):\n",
    "    if table['pos'].str.contains('PUNCT').any():\n",
    "        table.drop(table[table.pos == 'PUNCT'].index, inplace=True)"
   ]
  },
  {
   "cell_type": "code",
   "execution_count": 5,
   "metadata": {},
   "outputs": [],
   "source": [
    "%%add_to LearningGerman\n",
    "\n",
    "def translate(self, words=False):\n",
    "    if words == False:\n",
    "        return self.client.translate(self.text, source_language=self.language, target_language=self.to, \n",
    "                         model=self.model, format_='text')['translatedText']\n",
    "    else:\n",
    "        return [self.client.translate(word, source_language=self.language, target_language=self.to, \n",
    "                         model=self.model, format_='text')['translatedText'] for word in self.words]"
   ]
  },
  {
   "cell_type": "code",
   "execution_count": 6,
   "metadata": {},
   "outputs": [],
   "source": [
    "%%add_to LearningGerman\n",
    "\n",
    "def nlp(self, visualize=False):\n",
    "    if self.language == 'de':\n",
    "        nlp = de_core_news_sm.load()\n",
    "        column_names = ['deutsche', 'lemma', 'pos', 'details']\n",
    "    elif self.language == 'en':\n",
    "        nlp = en_core_web_sm.load()\n",
    "        column_names = ['english', 'lemma', 'pos', 'details']\n",
    "    doc = nlp(self.text)\n",
    "    self.words.clear(), self.lemma.clear(), self.pos.clear, self.details.clear()\n",
    "    for token in doc:\n",
    "        self.words.append(token.text)\n",
    "        self.lemma.append(token.lemma_.lower())\n",
    "        self.pos.append(token.pos_)\n",
    "        self.details.append(spacy.explain(token.tag_))\n",
    "    words_table = pd.DataFrame(data=zip(self.words, self.lemma, self.pos, self.details), columns=column_names)\n",
    "    words_table['translation'] = self.translate(words=True)\n",
    "    self.drop_punct(words_table)\n",
    "    if visualize == True:\n",
    "        spacy.displacy.render(doc, style='dep')\n",
    "    print(f'\\033[1;33m{self.text}\\033[m -> {self.translate()}')\n",
    "    self.table_ = words_table\n",
    "    return words_table"
   ]
  },
  {
   "cell_type": "code",
   "execution_count": 7,
   "metadata": {},
   "outputs": [],
   "source": [
    "%%add_to LearningGerman\n",
    "\n",
    "def say(self, translation=False, slowmode=False, autoplay=True):\n",
    "    if translation == False:\n",
    "        print(f'\\033[1;33m{self.language}')\n",
    "        speech = gTTS(self.text, lang=self.language, slow=slowmode)\n",
    "        speech.save('.projdata/speech.mp3')\n",
    "    else:\n",
    "        print(f'\\033[1m{self.to}')\n",
    "        speech = gTTS(self.translate(), lang=self.to, slow=slowmode)\n",
    "        speech.save('.projdata/speech.mp3')\n",
    "    return Audio('.projdata/speech.mp3', autoplay=autoplay)"
   ]
  },
  {
   "cell_type": "markdown",
   "metadata": {},
   "source": [
    "# Usage"
   ]
  },
  {
   "cell_type": "markdown",
   "metadata": {},
   "source": [
    "## Constructor\n",
    "```\n",
    "LearningGerman(text: str) -> Instanciate the LearningGerman class by a given string\n",
    "```\n",
    "### Attributes\n",
    "<span style=\"color: Chocolate;\"><strong>text</strong></span>: string, german or english text  \n",
    "<span style=\"color: Chocolate;\"><strong>words</strong></span>: list, list of tokens extracted from self.text  \n",
    "<span style=\"color: Chocolate;\"><strong>table</strong></span>: pd.Dataframe, table of words with part of speech informations   \n",
    "<span style=\"color: Chocolate;\"><strong>client</strong></span>: google cloud translate API client    \n",
    "<span style=\"color: Chocolate;\"><strong>language</strong></span>: string, ISO 639-1 language code detected from self.text   \n",
    "<span style=\"color: Chocolate;\"><strong>to</strong></span>: string, ISO 639-1 target language code  \n",
    "<span style=\"color: Chocolate;\"><strong>model</strong></span>: string, google cloud translate model used  "
   ]
  },
  {
   "cell_type": "code",
   "execution_count": 8,
   "metadata": {},
   "outputs": [],
   "source": [
    "lesson = LearningGerman(text='Ich liebe Kuchen')"
   ]
  },
  {
   "cell_type": "markdown",
   "metadata": {},
   "source": [
    "## Text to Speech\n",
    "```\n",
    "say(self: LearningGerman(), translation: bool, slowmode: bool, autoplay: bool) -> Returns playable audio\n",
    "```\n",
    "### Args\n",
    "<span style=\"color: CornflowerBlue;\"><strong>translation</strong></span>: boolean, wether output will be <strong>original</strong> or <strong>translated</strong>   \n",
    "<span style=\"color: CornflowerBlue;\"><strong>slowmode</strong></span>: boolean, wether output will be in <strong>slowmode</strong> or <strong>not</strong>   \n",
    "<span style=\"color: CornflowerBlue;\"><strong>autoplay</strong></span>: boolean, wether the audio will be <strong>automatically played</strong> or <strong>not</strong>"
   ]
  },
  {
   "cell_type": "code",
   "execution_count": 9,
   "metadata": {},
   "outputs": [
    {
     "name": "stdout",
     "output_type": "stream",
     "text": [
      "\u001b[1;33mde\n"
     ]
    },
    {
     "data": {
      "text/html": [
       "\n",
       "                <audio controls=\"controls\" autoplay=\"autoplay\">\n",
       "                    <source src=\"data:audio/mpeg;base64,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\" type=\"audio/mpeg\" />\n",
       "                    Your browser does not support the audio element.\n",
       "                </audio>\n",
       "              "
      ],
      "text/plain": [
       "<IPython.lib.display.Audio object>"
      ]
     },
     "execution_count": 9,
     "metadata": {},
     "output_type": "execute_result"
    }
   ],
   "source": [
    "lesson.say(translation=False, slowmode=True, autoplay=True)"
   ]
  },
  {
   "cell_type": "code",
   "execution_count": 10,
   "metadata": {},
   "outputs": [
    {
     "name": "stdout",
     "output_type": "stream",
     "text": [
      "\u001b[1men\n"
     ]
    },
    {
     "data": {
      "text/html": [
       "\n",
       "                <audio controls=\"controls\" >\n",
       "                    <source src=\"data:audio/mpeg;base64,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\" type=\"audio/mpeg\" />\n",
       "                    Your browser does not support the audio element.\n",
       "                </audio>\n",
       "              "
      ],
      "text/plain": [
       "<IPython.lib.display.Audio object>"
      ]
     },
     "execution_count": 10,
     "metadata": {},
     "output_type": "execute_result"
    }
   ],
   "source": [
    "lesson.say(translation=True, slowmode=False, autoplay=False)"
   ]
  },
  {
   "cell_type": "markdown",
   "metadata": {},
   "source": [
    "## Translation\n",
    "```\n",
    "translate(self: LearningGerman(), words: bool) -> Returns translated text\n",
    "```\n",
    "### Args\n",
    "<span style=\"color: CornflowerBlue;\"><strong>words</strong></span>: boolean, if <strong>True</strong> returns a <strong>list of translated words</strong> instead   "
   ]
  },
  {
   "cell_type": "code",
   "execution_count": 11,
   "metadata": {},
   "outputs": [
    {
     "data": {
      "text/plain": [
       "'I love cake'"
      ]
     },
     "execution_count": 11,
     "metadata": {},
     "output_type": "execute_result"
    }
   ],
   "source": [
    "lesson.translate()"
   ]
  },
  {
   "cell_type": "code",
   "execution_count": 12,
   "metadata": {},
   "outputs": [
    {
     "data": {
      "text/plain": [
       "[]"
      ]
     },
     "execution_count": 12,
     "metadata": {},
     "output_type": "execute_result"
    }
   ],
   "source": [
    "lesson.translate(words=True)"
   ]
  },
  {
   "cell_type": "markdown",
   "metadata": {},
   "source": [
    "## Natural language processing\n",
    "```\n",
    "nlp(self: LearningGerman(), words: bool) -> Returns original: translated text in a vocabulary chart\n",
    "```\n",
    "### Args\n",
    "<span style=\"color: CornflowerBlue;\"><strong>words</strong></span>: boolean, if <strong>True</strong> displays syntactic dependencies  "
   ]
  },
  {
   "cell_type": "code",
   "execution_count": 13,
   "metadata": {},
   "outputs": [
    {
     "name": "stdout",
     "output_type": "stream",
     "text": [
      "\u001b[1;33mIch liebe Kuchen\u001b[m -> I love cake\n"
     ]
    },
    {
     "data": {
      "text/html": [
       "<div>\n",
       "<style scoped>\n",
       "    .dataframe tbody tr th:only-of-type {\n",
       "        vertical-align: middle;\n",
       "    }\n",
       "\n",
       "    .dataframe tbody tr th {\n",
       "        vertical-align: top;\n",
       "    }\n",
       "\n",
       "    .dataframe thead th {\n",
       "        text-align: right;\n",
       "    }\n",
       "</style>\n",
       "<table border=\"1\" class=\"dataframe\">\n",
       "  <thead>\n",
       "    <tr style=\"text-align: right;\">\n",
       "      <th></th>\n",
       "      <th>deutsche</th>\n",
       "      <th>lemma</th>\n",
       "      <th>pos</th>\n",
       "      <th>details</th>\n",
       "      <th>translation</th>\n",
       "    </tr>\n",
       "  </thead>\n",
       "  <tbody>\n",
       "    <tr>\n",
       "      <th>0</th>\n",
       "      <td>Ich</td>\n",
       "      <td>ich</td>\n",
       "      <td>PRON</td>\n",
       "      <td>non-reflexive personal pronoun</td>\n",
       "      <td>I</td>\n",
       "    </tr>\n",
       "    <tr>\n",
       "      <th>1</th>\n",
       "      <td>liebe</td>\n",
       "      <td>lieb</td>\n",
       "      <td>VERB</td>\n",
       "      <td>finite verb, full</td>\n",
       "      <td>love</td>\n",
       "    </tr>\n",
       "    <tr>\n",
       "      <th>2</th>\n",
       "      <td>Kuchen</td>\n",
       "      <td>kuchen</td>\n",
       "      <td>NOUN</td>\n",
       "      <td>noun, singular or mass</td>\n",
       "      <td>cake</td>\n",
       "    </tr>\n",
       "  </tbody>\n",
       "</table>\n",
       "</div>"
      ],
      "text/plain": [
       "  deutsche   lemma   pos                         details translation\n",
       "0      Ich     ich  PRON  non-reflexive personal pronoun           I\n",
       "1    liebe    lieb  VERB               finite verb, full        love\n",
       "2   Kuchen  kuchen  NOUN          noun, singular or mass        cake"
      ]
     },
     "execution_count": 13,
     "metadata": {},
     "output_type": "execute_result"
    }
   ],
   "source": [
    "lesson.nlp()"
   ]
  },
  {
   "cell_type": "code",
   "execution_count": 14,
   "metadata": {},
   "outputs": [
    {
     "data": {
      "text/html": [
       "<span class=\"tex2jax_ignore\"><svg xmlns=\"http://www.w3.org/2000/svg\" xmlns:xlink=\"http://www.w3.org/1999/xlink\" xml:lang=\"de\" id=\"49a9abece8fa4cae941726ef3fbc8d6b-0\" class=\"displacy\" width=\"575\" height=\"224.5\" direction=\"ltr\" style=\"max-width: none; height: 224.5px; color: #000000; background: #ffffff; font-family: Arial; direction: ltr\">\n",
       "<text class=\"displacy-token\" fill=\"currentColor\" text-anchor=\"middle\" y=\"134.5\">\n",
       "    <tspan class=\"displacy-word\" fill=\"currentColor\" x=\"50\">Ich</tspan>\n",
       "    <tspan class=\"displacy-tag\" dy=\"2em\" fill=\"currentColor\" x=\"50\">PRON</tspan>\n",
       "</text>\n",
       "\n",
       "<text class=\"displacy-token\" fill=\"currentColor\" text-anchor=\"middle\" y=\"134.5\">\n",
       "    <tspan class=\"displacy-word\" fill=\"currentColor\" x=\"225\">liebe</tspan>\n",
       "    <tspan class=\"displacy-tag\" dy=\"2em\" fill=\"currentColor\" x=\"225\">VERB</tspan>\n",
       "</text>\n",
       "\n",
       "<text class=\"displacy-token\" fill=\"currentColor\" text-anchor=\"middle\" y=\"134.5\">\n",
       "    <tspan class=\"displacy-word\" fill=\"currentColor\" x=\"400\">Kuchen</tspan>\n",
       "    <tspan class=\"displacy-tag\" dy=\"2em\" fill=\"currentColor\" x=\"400\">NOUN</tspan>\n",
       "</text>\n",
       "\n",
       "<g class=\"displacy-arrow\">\n",
       "    <path class=\"displacy-arc\" id=\"arrow-49a9abece8fa4cae941726ef3fbc8d6b-0-0\" stroke-width=\"2px\" d=\"M70,89.5 C70,2.0 225.0,2.0 225.0,89.5\" fill=\"none\" stroke=\"currentColor\"/>\n",
       "    <text dy=\"1.25em\" style=\"font-size: 0.8em; letter-spacing: 1px\">\n",
       "        <textPath xlink:href=\"#arrow-49a9abece8fa4cae941726ef3fbc8d6b-0-0\" class=\"displacy-label\" startOffset=\"50%\" side=\"left\" fill=\"currentColor\" text-anchor=\"middle\">sb</textPath>\n",
       "    </text>\n",
       "    <path class=\"displacy-arrowhead\" d=\"M70,91.5 L62,79.5 78,79.5\" fill=\"currentColor\"/>\n",
       "</g>\n",
       "\n",
       "<g class=\"displacy-arrow\">\n",
       "    <path class=\"displacy-arc\" id=\"arrow-49a9abece8fa4cae941726ef3fbc8d6b-0-1\" stroke-width=\"2px\" d=\"M245,89.5 C245,2.0 400.0,2.0 400.0,89.5\" fill=\"none\" stroke=\"currentColor\"/>\n",
       "    <text dy=\"1.25em\" style=\"font-size: 0.8em; letter-spacing: 1px\">\n",
       "        <textPath xlink:href=\"#arrow-49a9abece8fa4cae941726ef3fbc8d6b-0-1\" class=\"displacy-label\" startOffset=\"50%\" side=\"left\" fill=\"currentColor\" text-anchor=\"middle\">oa</textPath>\n",
       "    </text>\n",
       "    <path class=\"displacy-arrowhead\" d=\"M400.0,91.5 L408.0,79.5 392.0,79.5\" fill=\"currentColor\"/>\n",
       "</g>\n",
       "</svg></span>"
      ],
      "text/plain": [
       "<IPython.core.display.HTML object>"
      ]
     },
     "metadata": {},
     "output_type": "display_data"
    },
    {
     "name": "stdout",
     "output_type": "stream",
     "text": [
      "\u001b[1;33mIch liebe Kuchen\u001b[m -> I love cake\n"
     ]
    },
    {
     "data": {
      "text/html": [
       "<div>\n",
       "<style scoped>\n",
       "    .dataframe tbody tr th:only-of-type {\n",
       "        vertical-align: middle;\n",
       "    }\n",
       "\n",
       "    .dataframe tbody tr th {\n",
       "        vertical-align: top;\n",
       "    }\n",
       "\n",
       "    .dataframe thead th {\n",
       "        text-align: right;\n",
       "    }\n",
       "</style>\n",
       "<table border=\"1\" class=\"dataframe\">\n",
       "  <thead>\n",
       "    <tr style=\"text-align: right;\">\n",
       "      <th></th>\n",
       "      <th>deutsche</th>\n",
       "      <th>lemma</th>\n",
       "      <th>pos</th>\n",
       "      <th>details</th>\n",
       "      <th>translation</th>\n",
       "    </tr>\n",
       "  </thead>\n",
       "  <tbody>\n",
       "    <tr>\n",
       "      <th>0</th>\n",
       "      <td>Ich</td>\n",
       "      <td>ich</td>\n",
       "      <td>PRON</td>\n",
       "      <td>non-reflexive personal pronoun</td>\n",
       "      <td>I</td>\n",
       "    </tr>\n",
       "    <tr>\n",
       "      <th>1</th>\n",
       "      <td>liebe</td>\n",
       "      <td>lieb</td>\n",
       "      <td>VERB</td>\n",
       "      <td>finite verb, full</td>\n",
       "      <td>love</td>\n",
       "    </tr>\n",
       "    <tr>\n",
       "      <th>2</th>\n",
       "      <td>Kuchen</td>\n",
       "      <td>kuchen</td>\n",
       "      <td>NOUN</td>\n",
       "      <td>noun, singular or mass</td>\n",
       "      <td>cake</td>\n",
       "    </tr>\n",
       "  </tbody>\n",
       "</table>\n",
       "</div>"
      ],
      "text/plain": [
       "  deutsche   lemma   pos                         details translation\n",
       "0      Ich     ich  PRON  non-reflexive personal pronoun           I\n",
       "1    liebe    lieb  VERB               finite verb, full        love\n",
       "2   Kuchen  kuchen  NOUN          noun, singular or mass        cake"
      ]
     },
     "execution_count": 14,
     "metadata": {},
     "output_type": "execute_result"
    }
   ],
   "source": [
    "lesson.nlp(visualize=True)"
   ]
  }
 ],
 "metadata": {
  "colab": {
   "collapsed_sections": [
    "_sYx8t3xtuCI",
    "9H56XsSzt39w",
    "Bdb91bKZL7AY",
    "W42S0_QMMFQo",
    "AoQP1XJ1KdMk"
   ],
   "name": "LearningGerman.ipynb",
   "provenance": [],
   "toc_visible": true
  },
  "kernelspec": {
   "display_name": "Python 3",
   "language": "python",
   "name": "python3"
  },
  "language_info": {
   "codemirror_mode": {
    "name": "ipython",
    "version": 3
   },
   "file_extension": ".py",
   "mimetype": "text/x-python",
   "name": "python",
   "nbconvert_exporter": "python",
   "pygments_lexer": "ipython3",
   "version": "3.7.9"
  },
  "toc-autonumbering": false,
  "toc-showcode": false,
  "toc-showmarkdowntxt": false,
  "toc-showtags": false
 },
 "nbformat": 4,
 "nbformat_minor": 4
}
